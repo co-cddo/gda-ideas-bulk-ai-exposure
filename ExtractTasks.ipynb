{
 "cells": [
  {
   "cell_type": "markdown",
   "metadata": {},
   "source": [
    "# Extract Tasks\n",
    "\n",
    "This notebook uses bedrock batch processing to extract a list of tasks associated with\n",
    "job roles as advertised on civil service jobs. \n"
   ]
  },
  {
   "cell_type": "code",
   "execution_count": 1,
   "metadata": {},
   "outputs": [
    {
     "name": "stdout",
     "output_type": "stream",
     "text": [
      "Large Departments\n",
      "Ministry of Defence\n",
      "HM Revenue and Customs\n",
      "HM Prison & Probation Service\n",
      "Home Office\n",
      "Foreign, Commonwealth & Development Office\n",
      "Ministry of Justice\n",
      "Cabinet Office\n",
      "Department for Education\n",
      "Scottish Government\n",
      "Department for Work and Pensions\n"
     ]
    }
   ],
   "source": [
    "import pandas as pd\n",
    "\n",
    "# Load the data, dropping those roles with missing departments\n",
    "jobs_data = pd.read_parquet(\"./data/jobs.pq\")\n",
    "jobs_data[\"department\"] = jobs_data[\"department\"].replace(\"nan\", pd.NA)\n",
    "jobs_data = jobs_data.dropna(subset=[\"department\"])\n",
    "print(\"Large Departments\")\n",
    "large_deparments = jobs_data.value_counts(\"department\").head(10).index.to_list()\n",
    "print(\"\\n\".join(large_deparments))\n"
   ]
  },
  {
   "cell_type": "markdown",
   "metadata": {},
   "source": [
    "jobs.pq comprises a recent extract of the jobs posted on civil service jobs. Each job \n",
    "description contains tasks which can be extracted using a LLM. Each task can also be graded \n",
    "according to its potential to be automated with technologies like genAI. Focussing on the \n",
    "larger departments, shown above, we can extract a comprehensive list of tasks. "
   ]
  },
  {
   "cell_type": "code",
   "execution_count": 2,
   "metadata": {},
   "outputs": [],
   "source": [
    "from typing import Dict\n",
    "from extraction import create_job, skewer_department\n",
    "import boto3\n",
    "from dotenv import load_dotenv\n",
    "\n",
    "load_dotenv()\n",
    "boto3.setup_default_session()\n",
    "session = boto3.Session()\n"
   ]
  },
  {
   "cell_type": "code",
   "execution_count": null,
   "metadata": {},
   "outputs": [],
   "source": [
    "# job_arns: Dict[str,str] = {}\n",
    "# for department in large_deparments:\n",
    "#     kebab = skewer_department(department)\n",
    "#     department_jobs = jobs_data.loc[jobs_data['department'] == department].copy()\n",
    "#     job_arns.update({kebab: create_job(department_jobs, kebab, \"trial-1\", session) })\n",
    "\n",
    "\n"
   ]
  },
  {
   "cell_type": "code",
   "execution_count": 3,
   "metadata": {},
   "outputs": [],
   "source": [
    "# from pprint import pprint\n",
    "# pprint(job_arns)\n",
    "\n",
    "job_arns = {\n",
    "    \"cabinet-office\": \"arn:aws:bedrock:us-east-1:992382722318:model-invocation-job/jmeegk5rpit7\",\n",
    "    \"department-for-education\": \"arn:aws:bedrock:us-east-1:992382722318:model-invocation-job/7jgo6har1v2k\",\n",
    "    \"department-for-work-and-pensions\": \"arn:aws:bedrock:us-east-1:992382722318:model-invocation-job/1d5s3tp7cuje\",\n",
    "    \"foreign-commonwealth-development-office\": \"arn:aws:bedrock:us-east-1:992382722318:model-invocation-job/e4s08jqd6jtt\",\n",
    "    \"hm-prison-probation-service\": \"arn:aws:bedrock:us-east-1:992382722318:model-invocation-job/0et0ecsnl2mr\",\n",
    "    \"hm-revenue-and-customs\": \"arn:aws:bedrock:us-east-1:992382722318:model-invocation-job/zmrn780b7af9\",\n",
    "    \"home-office\": \"arn:aws:bedrock:us-east-1:992382722318:model-invocation-job/qupta2en20yg\",\n",
    "    \"ministry-of-defence\": \"arn:aws:bedrock:us-east-1:992382722318:model-invocation-job/vxub08igmtcv\",\n",
    "    \"ministry-of-justice\": \"arn:aws:bedrock:us-east-1:992382722318:model-invocation-job/133yd2h4amyo\",\n",
    "    \"scottish-government\": \"arn:aws:bedrock:us-east-1:992382722318:model-invocation-job/hy9y2ah1kzx1\",\n",
    "}"
   ]
  },
  {
   "cell_type": "code",
   "execution_count": 4,
   "metadata": {},
   "outputs": [
    {
     "name": "stderr",
     "output_type": "stream",
     "text": [
      "2025-02-18 14:09:35,227 - llmbo.llmbo.StructuredBatchInferer - INFO - Attempting to Recover BatchInferer from arn:aws:bedrock:us-east-1:992382722318:model-invocation-job/jmeegk5rpit7\n",
      "2025-02-18 14:09:35,231 - botocore.credentials - INFO - Found credentials in shared credentials file: ~/.aws/credentials\n",
      "2025-02-18 14:09:47,693 - llmbo.llmbo.StructuredBatchInferer - INFO - Initialized StructuredBatchInferer with TaskOutput schema\n",
      "2025-02-18 14:09:47,693 - llmbo.llmbo.StructuredBatchInferer - INFO - Intialising BatchInferer\n",
      "2025-02-18 14:09:49,750 - llmbo.llmbo.StructuredBatchInferer - INFO - Role 'BatchInferenceRole' exists.\n",
      "2025-02-18 14:09:49,758 - llmbo.llmbo.StructuredBatchInferer - INFO - Initialized BatchInferer\n",
      "2025-02-18 14:09:49,758 - llmbo.llmbo.StructuredBatchInferer - INFO - Job arn:aws:bedrock:us-east-1:992382722318:model-invocation-job/jmeegk5rpit7 is already Completed\n",
      "2025-02-18 14:09:49,759 - llmbo.llmbo.StructuredBatchInferer - INFO - Job:arn:aws:bedrock:us-east-1:992382722318:model-invocation-job/jmeegk5rpit7 Complete. Downloading results from cddo-af-bedrock-batch-inference-us-east-1\n",
      "2025-02-18 14:09:50,457 - botocore.httpchecksum - INFO - Skipping checksum validation. Response did not contain one of the following algorithms: ['crc32', 'sha1', 'sha256'].\n",
      "2025-02-18 14:09:50,593 - botocore.httpchecksum - INFO - Skipping checksum validation. Response did not contain one of the following algorithms: ['crc32', 'sha1', 'sha256'].\n",
      "2025-02-18 14:09:50,601 - botocore.httpchecksum - INFO - Skipping checksum validation. Response did not contain one of the following algorithms: ['crc32', 'sha1', 'sha256'].\n",
      "2025-02-18 14:09:50,612 - botocore.httpchecksum - INFO - Skipping checksum validation. Response did not contain one of the following algorithms: ['crc32', 'sha1', 'sha256'].\n",
      "2025-02-18 14:09:50,614 - botocore.httpchecksum - INFO - Skipping checksum validation. Response did not contain one of the following algorithms: ['crc32', 'sha1', 'sha256'].\n",
      "2025-02-18 14:09:50,636 - botocore.httpchecksum - INFO - Skipping checksum validation. Response did not contain one of the following algorithms: ['crc32', 'sha1', 'sha256'].\n",
      "2025-02-18 14:09:53,139 - llmbo.llmbo.StructuredBatchInferer - INFO - Downloaded results file to cabinet-office-task-extraction-trial-1_out.jsonl\n",
      "2025-02-18 14:09:53,415 - botocore.httpchecksum - INFO - Skipping checksum validation. Response did not contain one of the following algorithms: ['crc32', 'sha1', 'sha256'].\n",
      "2025-02-18 14:09:53,422 - llmbo.llmbo.StructuredBatchInferer - INFO - Downloaded manifest file to cabinet-office-task-extraction-trial-1_manifest.jsonl\n",
      "2025-02-18 14:09:54,052 - llmbo.llmbo.StructuredBatchInferer - INFO - Attempting to Recover BatchInferer from arn:aws:bedrock:us-east-1:992382722318:model-invocation-job/7jgo6har1v2k\n",
      "2025-02-18 14:09:54,549 - llmbo.llmbo.StructuredBatchInferer - INFO - Initialized StructuredBatchInferer with TaskOutput schema\n",
      "2025-02-18 14:09:54,550 - llmbo.llmbo.StructuredBatchInferer - INFO - Intialising BatchInferer\n",
      "2025-02-18 14:09:55,462 - llmbo.llmbo.StructuredBatchInferer - INFO - Role 'BatchInferenceRole' exists.\n",
      "2025-02-18 14:09:55,470 - llmbo.llmbo.StructuredBatchInferer - INFO - Initialized BatchInferer\n",
      "2025-02-18 14:09:55,471 - llmbo.llmbo.StructuredBatchInferer - INFO - Job arn:aws:bedrock:us-east-1:992382722318:model-invocation-job/7jgo6har1v2k is already Completed\n",
      "2025-02-18 14:09:55,471 - llmbo.llmbo.StructuredBatchInferer - INFO - Job:arn:aws:bedrock:us-east-1:992382722318:model-invocation-job/7jgo6har1v2k Complete. Downloading results from cddo-af-bedrock-batch-inference-us-east-1\n",
      "2025-02-18 14:09:56,140 - botocore.httpchecksum - INFO - Skipping checksum validation. Response did not contain one of the following algorithms: ['crc32', 'sha1', 'sha256'].\n",
      "2025-02-18 14:09:56,300 - botocore.httpchecksum - INFO - Skipping checksum validation. Response did not contain one of the following algorithms: ['crc32', 'sha1', 'sha256'].\n",
      "2025-02-18 14:09:56,318 - botocore.httpchecksum - INFO - Skipping checksum validation. Response did not contain one of the following algorithms: ['crc32', 'sha1', 'sha256'].\n",
      "2025-02-18 14:09:56,328 - botocore.httpchecksum - INFO - Skipping checksum validation. Response did not contain one of the following algorithms: ['crc32', 'sha1', 'sha256'].\n",
      "2025-02-18 14:09:58,362 - llmbo.llmbo.StructuredBatchInferer - INFO - Downloaded results file to department-for-education-task-extraction-trial-1_out.jsonl\n",
      "2025-02-18 14:09:58,571 - botocore.httpchecksum - INFO - Skipping checksum validation. Response did not contain one of the following algorithms: ['crc32', 'sha1', 'sha256'].\n",
      "2025-02-18 14:09:58,576 - llmbo.llmbo.StructuredBatchInferer - INFO - Downloaded manifest file to department-for-education-task-extraction-trial-1_manifest.jsonl\n",
      "2025-02-18 14:09:59,431 - llmbo.llmbo.StructuredBatchInferer - INFO - Attempting to Recover BatchInferer from arn:aws:bedrock:us-east-1:992382722318:model-invocation-job/1d5s3tp7cuje\n",
      "2025-02-18 14:09:59,950 - llmbo.llmbo.StructuredBatchInferer - INFO - Initialized StructuredBatchInferer with TaskOutput schema\n",
      "2025-02-18 14:09:59,950 - llmbo.llmbo.StructuredBatchInferer - INFO - Intialising BatchInferer\n",
      "2025-02-18 14:10:00,860 - llmbo.llmbo.StructuredBatchInferer - INFO - Role 'BatchInferenceRole' exists.\n",
      "2025-02-18 14:10:00,868 - llmbo.llmbo.StructuredBatchInferer - INFO - Initialized BatchInferer\n",
      "2025-02-18 14:10:00,869 - llmbo.llmbo.StructuredBatchInferer - INFO - Job arn:aws:bedrock:us-east-1:992382722318:model-invocation-job/1d5s3tp7cuje is already Completed\n",
      "2025-02-18 14:10:00,869 - llmbo.llmbo.StructuredBatchInferer - INFO - Job:arn:aws:bedrock:us-east-1:992382722318:model-invocation-job/1d5s3tp7cuje Complete. Downloading results from cddo-af-bedrock-batch-inference-us-east-1\n",
      "2025-02-18 14:10:01,551 - botocore.httpchecksum - INFO - Skipping checksum validation. Response did not contain one of the following algorithms: ['crc32', 'sha1', 'sha256'].\n",
      "2025-02-18 14:10:01,753 - botocore.httpchecksum - INFO - Skipping checksum validation. Response did not contain one of the following algorithms: ['crc32', 'sha1', 'sha256'].\n",
      "2025-02-18 14:10:01,784 - botocore.httpchecksum - INFO - Skipping checksum validation. Response did not contain one of the following algorithms: ['crc32', 'sha1', 'sha256'].\n",
      "2025-02-18 14:10:01,798 - botocore.httpchecksum - INFO - Skipping checksum validation. Response did not contain one of the following algorithms: ['crc32', 'sha1', 'sha256'].\n",
      "2025-02-18 14:10:03,391 - llmbo.llmbo.StructuredBatchInferer - INFO - Downloaded results file to department-for-work-and-pensions-task-extraction-trial-1_out.jsonl\n",
      "2025-02-18 14:10:03,633 - botocore.httpchecksum - INFO - Skipping checksum validation. Response did not contain one of the following algorithms: ['crc32', 'sha1', 'sha256'].\n",
      "2025-02-18 14:10:03,639 - llmbo.llmbo.StructuredBatchInferer - INFO - Downloaded manifest file to department-for-work-and-pensions-task-extraction-trial-1_manifest.jsonl\n",
      "2025-02-18 14:10:04,274 - llmbo.llmbo.StructuredBatchInferer - INFO - Attempting to Recover BatchInferer from arn:aws:bedrock:us-east-1:992382722318:model-invocation-job/e4s08jqd6jtt\n",
      "2025-02-18 14:10:05,219 - llmbo.llmbo.StructuredBatchInferer - INFO - Initialized StructuredBatchInferer with TaskOutput schema\n",
      "2025-02-18 14:10:05,219 - llmbo.llmbo.StructuredBatchInferer - INFO - Intialising BatchInferer\n",
      "2025-02-18 14:10:06,096 - llmbo.llmbo.StructuredBatchInferer - INFO - Role 'BatchInferenceRole' exists.\n",
      "2025-02-18 14:10:06,105 - llmbo.llmbo.StructuredBatchInferer - INFO - Initialized BatchInferer\n",
      "2025-02-18 14:10:06,106 - llmbo.llmbo.StructuredBatchInferer - INFO - Job arn:aws:bedrock:us-east-1:992382722318:model-invocation-job/e4s08jqd6jtt is already Completed\n",
      "2025-02-18 14:10:06,106 - llmbo.llmbo.StructuredBatchInferer - INFO - Job:arn:aws:bedrock:us-east-1:992382722318:model-invocation-job/e4s08jqd6jtt Complete. Downloading results from cddo-af-bedrock-batch-inference-us-east-1\n",
      "2025-02-18 14:10:06,802 - botocore.httpchecksum - INFO - Skipping checksum validation. Response did not contain one of the following algorithms: ['crc32', 'sha1', 'sha256'].\n",
      "2025-02-18 14:10:06,905 - botocore.httpchecksum - INFO - Skipping checksum validation. Response did not contain one of the following algorithms: ['crc32', 'sha1', 'sha256'].\n",
      "2025-02-18 14:10:06,928 - botocore.httpchecksum - INFO - Skipping checksum validation. Response did not contain one of the following algorithms: ['crc32', 'sha1', 'sha256'].\n",
      "2025-02-18 14:10:08,542 - llmbo.llmbo.StructuredBatchInferer - INFO - Downloaded results file to foreign-commonwealth-development-office-task-extraction-trial-1_out.jsonl\n",
      "2025-02-18 14:10:08,808 - botocore.httpchecksum - INFO - Skipping checksum validation. Response did not contain one of the following algorithms: ['crc32', 'sha1', 'sha256'].\n",
      "2025-02-18 14:10:08,814 - llmbo.llmbo.StructuredBatchInferer - INFO - Downloaded manifest file to foreign-commonwealth-development-office-task-extraction-trial-1_manifest.jsonl\n",
      "2025-02-18 14:10:08,991 - llmbo.llmbo.StructuredBatchInferer - WARNING - Could not validate output 1 validation error for TaskOutput\n",
      "tasks\n",
      "  Input should be a valid list [type=list_type, input_value='[', input_type=str]\n",
      "    For further information visit https://errors.pydantic.dev/2.10/v/list_type\n",
      "2025-02-18 14:10:09,552 - llmbo.llmbo.StructuredBatchInferer - WARNING - Could not validate output 1 validation error for TaskOutput\n",
      "tasks\n",
      "  Input should be a valid list [type=list_type, input_value='[', input_type=str]\n",
      "    For further information visit https://errors.pydantic.dev/2.10/v/list_type\n",
      "2025-02-18 14:10:09,558 - llmbo.llmbo.StructuredBatchInferer - WARNING - Could not validate output 1 validation error for TaskOutput\n",
      "tasks\n",
      "  Input should be a valid list [type=list_type, input_value='[', input_type=str]\n",
      "    For further information visit https://errors.pydantic.dev/2.10/v/list_type\n",
      "2025-02-18 14:10:09,572 - llmbo.llmbo.StructuredBatchInferer - WARNING - Could not validate output 1 validation error for TaskOutput\n",
      "tasks\n",
      "  Input should be a valid list [type=list_type, input_value='[', input_type=str]\n",
      "    For further information visit https://errors.pydantic.dev/2.10/v/list_type\n",
      "2025-02-18 14:10:09,576 - llmbo.llmbo.StructuredBatchInferer - INFO - Attempting to Recover BatchInferer from arn:aws:bedrock:us-east-1:992382722318:model-invocation-job/0et0ecsnl2mr\n",
      "2025-02-18 14:10:10,492 - llmbo.llmbo.StructuredBatchInferer - INFO - Initialized StructuredBatchInferer with TaskOutput schema\n",
      "2025-02-18 14:10:10,492 - llmbo.llmbo.StructuredBatchInferer - INFO - Intialising BatchInferer\n",
      "2025-02-18 14:10:11,349 - llmbo.llmbo.StructuredBatchInferer - INFO - Role 'BatchInferenceRole' exists.\n",
      "2025-02-18 14:10:11,357 - llmbo.llmbo.StructuredBatchInferer - INFO - Initialized BatchInferer\n",
      "2025-02-18 14:10:11,358 - llmbo.llmbo.StructuredBatchInferer - INFO - Job arn:aws:bedrock:us-east-1:992382722318:model-invocation-job/0et0ecsnl2mr is already Completed\n",
      "2025-02-18 14:10:11,359 - llmbo.llmbo.StructuredBatchInferer - INFO - Job:arn:aws:bedrock:us-east-1:992382722318:model-invocation-job/0et0ecsnl2mr Complete. Downloading results from cddo-af-bedrock-batch-inference-us-east-1\n",
      "2025-02-18 14:10:12,048 - botocore.httpchecksum - INFO - Skipping checksum validation. Response did not contain one of the following algorithms: ['crc32', 'sha1', 'sha256'].\n",
      "2025-02-18 14:10:12,155 - botocore.httpchecksum - INFO - Skipping checksum validation. Response did not contain one of the following algorithms: ['crc32', 'sha1', 'sha256'].\n",
      "2025-02-18 14:10:12,155 - botocore.httpchecksum - INFO - Skipping checksum validation. Response did not contain one of the following algorithms: ['crc32', 'sha1', 'sha256'].\n",
      "2025-02-18 14:10:12,161 - botocore.httpchecksum - INFO - Skipping checksum validation. Response did not contain one of the following algorithms: ['crc32', 'sha1', 'sha256'].\n",
      "2025-02-18 14:10:12,162 - botocore.httpchecksum - INFO - Skipping checksum validation. Response did not contain one of the following algorithms: ['crc32', 'sha1', 'sha256'].\n",
      "2025-02-18 14:10:12,170 - botocore.httpchecksum - INFO - Skipping checksum validation. Response did not contain one of the following algorithms: ['crc32', 'sha1', 'sha256'].\n",
      "2025-02-18 14:10:12,202 - botocore.httpchecksum - INFO - Skipping checksum validation. Response did not contain one of the following algorithms: ['crc32', 'sha1', 'sha256'].\n",
      "2025-02-18 14:10:12,204 - botocore.httpchecksum - INFO - Skipping checksum validation. Response did not contain one of the following algorithms: ['crc32', 'sha1', 'sha256'].\n",
      "2025-02-18 14:10:12,213 - botocore.httpchecksum - INFO - Skipping checksum validation. Response did not contain one of the following algorithms: ['crc32', 'sha1', 'sha256'].\n",
      "2025-02-18 14:10:12,232 - botocore.httpchecksum - INFO - Skipping checksum validation. Response did not contain one of the following algorithms: ['crc32', 'sha1', 'sha256'].\n",
      "2025-02-18 14:10:13,690 - botocore.httpchecksum - INFO - Skipping checksum validation. Response did not contain one of the following algorithms: ['crc32', 'sha1', 'sha256'].\n",
      "2025-02-18 14:10:13,747 - botocore.httpchecksum - INFO - Skipping checksum validation. Response did not contain one of the following algorithms: ['crc32', 'sha1', 'sha256'].\n",
      "2025-02-18 14:10:14,555 - botocore.httpchecksum - INFO - Skipping checksum validation. Response did not contain one of the following algorithms: ['crc32', 'sha1', 'sha256'].\n",
      "2025-02-18 14:10:14,972 - botocore.httpchecksum - INFO - Skipping checksum validation. Response did not contain one of the following algorithms: ['crc32', 'sha1', 'sha256'].\n",
      "2025-02-18 14:10:15,565 - botocore.httpchecksum - INFO - Skipping checksum validation. Response did not contain one of the following algorithms: ['crc32', 'sha1', 'sha256'].\n",
      "2025-02-18 14:10:15,819 - botocore.httpchecksum - INFO - Skipping checksum validation. Response did not contain one of the following algorithms: ['crc32', 'sha1', 'sha256'].\n",
      "2025-02-18 14:10:15,897 - botocore.httpchecksum - INFO - Skipping checksum validation. Response did not contain one of the following algorithms: ['crc32', 'sha1', 'sha256'].\n",
      "2025-02-18 14:10:16,310 - botocore.httpchecksum - INFO - Skipping checksum validation. Response did not contain one of the following algorithms: ['crc32', 'sha1', 'sha256'].\n",
      "2025-02-18 14:10:16,658 - botocore.httpchecksum - INFO - Skipping checksum validation. Response did not contain one of the following algorithms: ['crc32', 'sha1', 'sha256'].\n",
      "2025-02-18 14:10:17,134 - botocore.httpchecksum - INFO - Skipping checksum validation. Response did not contain one of the following algorithms: ['crc32', 'sha1', 'sha256'].\n",
      "2025-02-18 14:10:17,181 - botocore.httpchecksum - INFO - Skipping checksum validation. Response did not contain one of the following algorithms: ['crc32', 'sha1', 'sha256'].\n",
      "2025-02-18 14:10:17,375 - botocore.httpchecksum - INFO - Skipping checksum validation. Response did not contain one of the following algorithms: ['crc32', 'sha1', 'sha256'].\n",
      "2025-02-18 14:10:17,486 - botocore.httpchecksum - INFO - Skipping checksum validation. Response did not contain one of the following algorithms: ['crc32', 'sha1', 'sha256'].\n",
      "2025-02-18 14:10:18,518 - botocore.httpchecksum - INFO - Skipping checksum validation. Response did not contain one of the following algorithms: ['crc32', 'sha1', 'sha256'].\n",
      "2025-02-18 14:10:19,529 - botocore.httpchecksum - INFO - Skipping checksum validation. Response did not contain one of the following algorithms: ['crc32', 'sha1', 'sha256'].\n",
      "2025-02-18 14:10:19,785 - botocore.httpchecksum - INFO - Skipping checksum validation. Response did not contain one of the following algorithms: ['crc32', 'sha1', 'sha256'].\n",
      "2025-02-18 14:10:20,377 - botocore.httpchecksum - INFO - Skipping checksum validation. Response did not contain one of the following algorithms: ['crc32', 'sha1', 'sha256'].\n",
      "2025-02-18 14:10:21,832 - botocore.httpchecksum - INFO - Skipping checksum validation. Response did not contain one of the following algorithms: ['crc32', 'sha1', 'sha256'].\n",
      "2025-02-18 14:10:28,563 - llmbo.llmbo.StructuredBatchInferer - INFO - Downloaded results file to hm-prison-probation-service-task-extraction-trial-1_out.jsonl\n",
      "2025-02-18 14:10:28,861 - botocore.httpchecksum - INFO - Skipping checksum validation. Response did not contain one of the following algorithms: ['crc32', 'sha1', 'sha256'].\n",
      "2025-02-18 14:10:28,867 - llmbo.llmbo.StructuredBatchInferer - INFO - Downloaded manifest file to hm-prison-probation-service-task-extraction-trial-1_manifest.jsonl\n",
      "2025-02-18 14:10:31,694 - llmbo.llmbo.StructuredBatchInferer - INFO - Attempting to Recover BatchInferer from arn:aws:bedrock:us-east-1:992382722318:model-invocation-job/zmrn780b7af9\n",
      "2025-02-18 14:10:33,387 - llmbo.llmbo.StructuredBatchInferer - INFO - Initialized StructuredBatchInferer with TaskOutput schema\n",
      "2025-02-18 14:10:33,387 - llmbo.llmbo.StructuredBatchInferer - INFO - Intialising BatchInferer\n",
      "2025-02-18 14:10:34,268 - llmbo.llmbo.StructuredBatchInferer - INFO - Role 'BatchInferenceRole' exists.\n",
      "2025-02-18 14:10:34,276 - llmbo.llmbo.StructuredBatchInferer - INFO - Initialized BatchInferer\n",
      "2025-02-18 14:10:34,277 - llmbo.llmbo.StructuredBatchInferer - INFO - Job arn:aws:bedrock:us-east-1:992382722318:model-invocation-job/zmrn780b7af9 is already Completed\n",
      "2025-02-18 14:10:34,277 - llmbo.llmbo.StructuredBatchInferer - INFO - Job:arn:aws:bedrock:us-east-1:992382722318:model-invocation-job/zmrn780b7af9 Complete. Downloading results from cddo-af-bedrock-batch-inference-us-east-1\n",
      "2025-02-18 14:10:34,889 - botocore.httpchecksum - INFO - Skipping checksum validation. Response did not contain one of the following algorithms: ['crc32', 'sha1', 'sha256'].\n",
      "2025-02-18 14:10:35,020 - botocore.httpchecksum - INFO - Skipping checksum validation. Response did not contain one of the following algorithms: ['crc32', 'sha1', 'sha256'].\n",
      "2025-02-18 14:10:35,054 - botocore.httpchecksum - INFO - Skipping checksum validation. Response did not contain one of the following algorithms: ['crc32', 'sha1', 'sha256'].\n",
      "2025-02-18 14:10:35,061 - botocore.httpchecksum - INFO - Skipping checksum validation. Response did not contain one of the following algorithms: ['crc32', 'sha1', 'sha256'].\n",
      "2025-02-18 14:10:35,069 - botocore.httpchecksum - INFO - Skipping checksum validation. Response did not contain one of the following algorithms: ['crc32', 'sha1', 'sha256'].\n",
      "2025-02-18 14:10:35,071 - botocore.httpchecksum - INFO - Skipping checksum validation. Response did not contain one of the following algorithms: ['crc32', 'sha1', 'sha256'].\n",
      "2025-02-18 14:10:35,074 - botocore.httpchecksum - INFO - Skipping checksum validation. Response did not contain one of the following algorithms: ['crc32', 'sha1', 'sha256'].\n",
      "2025-02-18 14:10:35,077 - botocore.httpchecksum - INFO - Skipping checksum validation. Response did not contain one of the following algorithms: ['crc32', 'sha1', 'sha256'].\n",
      "2025-02-18 14:10:35,079 - botocore.httpchecksum - INFO - Skipping checksum validation. Response did not contain one of the following algorithms: ['crc32', 'sha1', 'sha256'].\n",
      "2025-02-18 14:10:35,095 - botocore.httpchecksum - INFO - Skipping checksum validation. Response did not contain one of the following algorithms: ['crc32', 'sha1', 'sha256'].\n",
      "2025-02-18 14:10:36,330 - botocore.httpchecksum - INFO - Skipping checksum validation. Response did not contain one of the following algorithms: ['crc32', 'sha1', 'sha256'].\n",
      "2025-02-18 14:10:36,493 - botocore.httpchecksum - INFO - Skipping checksum validation. Response did not contain one of the following algorithms: ['crc32', 'sha1', 'sha256'].\n",
      "2025-02-18 14:10:42,092 - llmbo.llmbo.StructuredBatchInferer - INFO - Downloaded results file to hm-revenue-and-customs-task-extraction-trial-1_out.jsonl\n",
      "2025-02-18 14:10:42,300 - botocore.httpchecksum - INFO - Skipping checksum validation. Response did not contain one of the following algorithms: ['crc32', 'sha1', 'sha256'].\n",
      "2025-02-18 14:10:42,304 - llmbo.llmbo.StructuredBatchInferer - INFO - Downloaded manifest file to hm-revenue-and-customs-task-extraction-trial-1_manifest.jsonl\n",
      "2025-02-18 14:10:44,341 - llmbo.llmbo.StructuredBatchInferer - INFO - Attempting to Recover BatchInferer from arn:aws:bedrock:us-east-1:992382722318:model-invocation-job/qupta2en20yg\n",
      "2025-02-18 14:10:45,001 - llmbo.llmbo.StructuredBatchInferer - INFO - Initialized StructuredBatchInferer with TaskOutput schema\n",
      "2025-02-18 14:10:45,001 - llmbo.llmbo.StructuredBatchInferer - INFO - Intialising BatchInferer\n",
      "2025-02-18 14:10:45,874 - llmbo.llmbo.StructuredBatchInferer - INFO - Role 'BatchInferenceRole' exists.\n",
      "2025-02-18 14:10:45,881 - llmbo.llmbo.StructuredBatchInferer - INFO - Initialized BatchInferer\n",
      "2025-02-18 14:10:45,882 - llmbo.llmbo.StructuredBatchInferer - INFO - Job arn:aws:bedrock:us-east-1:992382722318:model-invocation-job/qupta2en20yg is already Completed\n",
      "2025-02-18 14:10:45,882 - llmbo.llmbo.StructuredBatchInferer - INFO - Job:arn:aws:bedrock:us-east-1:992382722318:model-invocation-job/qupta2en20yg Complete. Downloading results from cddo-af-bedrock-batch-inference-us-east-1\n",
      "2025-02-18 14:10:46,527 - botocore.httpchecksum - INFO - Skipping checksum validation. Response did not contain one of the following algorithms: ['crc32', 'sha1', 'sha256'].\n",
      "2025-02-18 14:10:46,712 - botocore.httpchecksum - INFO - Skipping checksum validation. Response did not contain one of the following algorithms: ['crc32', 'sha1', 'sha256'].\n",
      "2025-02-18 14:10:46,716 - botocore.httpchecksum - INFO - Skipping checksum validation. Response did not contain one of the following algorithms: ['crc32', 'sha1', 'sha256'].\n",
      "2025-02-18 14:10:46,721 - botocore.httpchecksum - INFO - Skipping checksum validation. Response did not contain one of the following algorithms: ['crc32', 'sha1', 'sha256'].\n",
      "2025-02-18 14:10:46,723 - botocore.httpchecksum - INFO - Skipping checksum validation. Response did not contain one of the following algorithms: ['crc32', 'sha1', 'sha256'].\n",
      "2025-02-18 14:10:46,739 - botocore.httpchecksum - INFO - Skipping checksum validation. Response did not contain one of the following algorithms: ['crc32', 'sha1', 'sha256'].\n",
      "2025-02-18 14:10:46,749 - botocore.httpchecksum - INFO - Skipping checksum validation. Response did not contain one of the following algorithms: ['crc32', 'sha1', 'sha256'].\n",
      "2025-02-18 14:10:46,750 - botocore.httpchecksum - INFO - Skipping checksum validation. Response did not contain one of the following algorithms: ['crc32', 'sha1', 'sha256'].\n",
      "2025-02-18 14:10:46,763 - botocore.httpchecksum - INFO - Skipping checksum validation. Response did not contain one of the following algorithms: ['crc32', 'sha1', 'sha256'].\n",
      "2025-02-18 14:10:46,777 - botocore.httpchecksum - INFO - Skipping checksum validation. Response did not contain one of the following algorithms: ['crc32', 'sha1', 'sha256'].\n",
      "2025-02-18 14:10:47,870 - botocore.httpchecksum - INFO - Skipping checksum validation. Response did not contain one of the following algorithms: ['crc32', 'sha1', 'sha256'].\n",
      "2025-02-18 14:10:49,975 - llmbo.llmbo.StructuredBatchInferer - INFO - Downloaded results file to home-office-task-extraction-trial-1_out.jsonl\n",
      "2025-02-18 14:10:50,208 - botocore.httpchecksum - INFO - Skipping checksum validation. Response did not contain one of the following algorithms: ['crc32', 'sha1', 'sha256'].\n",
      "2025-02-18 14:10:50,212 - llmbo.llmbo.StructuredBatchInferer - INFO - Downloaded manifest file to home-office-task-extraction-trial-1_manifest.jsonl\n",
      "2025-02-18 14:10:52,483 - llmbo.llmbo.StructuredBatchInferer - INFO - Attempting to Recover BatchInferer from arn:aws:bedrock:us-east-1:992382722318:model-invocation-job/vxub08igmtcv\n",
      "2025-02-18 14:10:53,471 - llmbo.llmbo.StructuredBatchInferer - INFO - Initialized StructuredBatchInferer with TaskOutput schema\n",
      "2025-02-18 14:10:53,472 - llmbo.llmbo.StructuredBatchInferer - INFO - Intialising BatchInferer\n",
      "2025-02-18 14:10:54,358 - llmbo.llmbo.StructuredBatchInferer - INFO - Role 'BatchInferenceRole' exists.\n",
      "2025-02-18 14:10:54,363 - llmbo.llmbo.StructuredBatchInferer - INFO - Initialized BatchInferer\n",
      "2025-02-18 14:10:54,364 - llmbo.llmbo.StructuredBatchInferer - INFO - Job arn:aws:bedrock:us-east-1:992382722318:model-invocation-job/vxub08igmtcv is already Completed\n",
      "2025-02-18 14:10:54,364 - llmbo.llmbo.StructuredBatchInferer - INFO - Job:arn:aws:bedrock:us-east-1:992382722318:model-invocation-job/vxub08igmtcv Complete. Downloading results from cddo-af-bedrock-batch-inference-us-east-1\n",
      "2025-02-18 14:10:55,026 - botocore.httpchecksum - INFO - Skipping checksum validation. Response did not contain one of the following algorithms: ['crc32', 'sha1', 'sha256'].\n",
      "2025-02-18 14:10:55,163 - botocore.httpchecksum - INFO - Skipping checksum validation. Response did not contain one of the following algorithms: ['crc32', 'sha1', 'sha256'].\n",
      "2025-02-18 14:10:55,202 - botocore.httpchecksum - INFO - Skipping checksum validation. Response did not contain one of the following algorithms: ['crc32', 'sha1', 'sha256'].\n",
      "2025-02-18 14:10:55,215 - botocore.httpchecksum - INFO - Skipping checksum validation. Response did not contain one of the following algorithms: ['crc32', 'sha1', 'sha256'].\n",
      "2025-02-18 14:10:55,218 - botocore.httpchecksum - INFO - Skipping checksum validation. Response did not contain one of the following algorithms: ['crc32', 'sha1', 'sha256'].\n",
      "2025-02-18 14:10:55,229 - botocore.httpchecksum - INFO - Skipping checksum validation. Response did not contain one of the following algorithms: ['crc32', 'sha1', 'sha256'].\n",
      "2025-02-18 14:10:55,253 - botocore.httpchecksum - INFO - Skipping checksum validation. Response did not contain one of the following algorithms: ['crc32', 'sha1', 'sha256'].\n",
      "2025-02-18 14:10:55,257 - botocore.httpchecksum - INFO - Skipping checksum validation. Response did not contain one of the following algorithms: ['crc32', 'sha1', 'sha256'].\n",
      "2025-02-18 14:10:55,262 - botocore.httpchecksum - INFO - Skipping checksum validation. Response did not contain one of the following algorithms: ['crc32', 'sha1', 'sha256'].\n",
      "2025-02-18 14:10:55,262 - botocore.httpchecksum - INFO - Skipping checksum validation. Response did not contain one of the following algorithms: ['crc32', 'sha1', 'sha256'].\n",
      "2025-02-18 14:10:56,366 - botocore.httpchecksum - INFO - Skipping checksum validation. Response did not contain one of the following algorithms: ['crc32', 'sha1', 'sha256'].\n",
      "2025-02-18 14:10:56,728 - botocore.httpchecksum - INFO - Skipping checksum validation. Response did not contain one of the following algorithms: ['crc32', 'sha1', 'sha256'].\n",
      "2025-02-18 14:10:57,141 - botocore.httpchecksum - INFO - Skipping checksum validation. Response did not contain one of the following algorithms: ['crc32', 'sha1', 'sha256'].\n",
      "2025-02-18 14:10:57,652 - botocore.httpchecksum - INFO - Skipping checksum validation. Response did not contain one of the following algorithms: ['crc32', 'sha1', 'sha256'].\n",
      "2025-02-18 14:10:57,810 - botocore.httpchecksum - INFO - Skipping checksum validation. Response did not contain one of the following algorithms: ['crc32', 'sha1', 'sha256'].\n",
      "2025-02-18 14:10:57,853 - botocore.httpchecksum - INFO - Skipping checksum validation. Response did not contain one of the following algorithms: ['crc32', 'sha1', 'sha256'].\n",
      "2025-02-18 14:10:57,947 - botocore.httpchecksum - INFO - Skipping checksum validation. Response did not contain one of the following algorithms: ['crc32', 'sha1', 'sha256'].\n",
      "2025-02-18 14:10:58,166 - botocore.httpchecksum - INFO - Skipping checksum validation. Response did not contain one of the following algorithms: ['crc32', 'sha1', 'sha256'].\n",
      "2025-02-18 14:10:58,233 - botocore.httpchecksum - INFO - Skipping checksum validation. Response did not contain one of the following algorithms: ['crc32', 'sha1', 'sha256'].\n",
      "2025-02-18 14:10:58,421 - botocore.httpchecksum - INFO - Skipping checksum validation. Response did not contain one of the following algorithms: ['crc32', 'sha1', 'sha256'].\n",
      "2025-02-18 14:10:58,860 - botocore.httpchecksum - INFO - Skipping checksum validation. Response did not contain one of the following algorithms: ['crc32', 'sha1', 'sha256'].\n",
      "2025-02-18 14:11:02,642 - llmbo.llmbo.StructuredBatchInferer - INFO - Downloaded results file to ministry-of-defence-task-extraction-trial-1_out.jsonl\n",
      "2025-02-18 14:11:02,928 - botocore.httpchecksum - INFO - Skipping checksum validation. Response did not contain one of the following algorithms: ['crc32', 'sha1', 'sha256'].\n",
      "2025-02-18 14:11:02,935 - llmbo.llmbo.StructuredBatchInferer - INFO - Downloaded manifest file to ministry-of-defence-task-extraction-trial-1_manifest.jsonl\n",
      "2025-02-18 14:11:07,126 - llmbo.llmbo.StructuredBatchInferer - WARNING - Could not validate output 1 validation error for TaskOutput\n",
      "tasks\n",
      "  Input should be a valid list [type=list_type, input_value='[', input_type=str]\n",
      "    For further information visit https://errors.pydantic.dev/2.10/v/list_type\n",
      "2025-02-18 14:11:07,172 - llmbo.llmbo.StructuredBatchInferer - INFO - Attempting to Recover BatchInferer from arn:aws:bedrock:us-east-1:992382722318:model-invocation-job/133yd2h4amyo\n",
      "2025-02-18 14:11:07,866 - llmbo.llmbo.StructuredBatchInferer - INFO - Initialized StructuredBatchInferer with TaskOutput schema\n",
      "2025-02-18 14:11:07,867 - llmbo.llmbo.StructuredBatchInferer - INFO - Intialising BatchInferer\n",
      "2025-02-18 14:11:08,717 - llmbo.llmbo.StructuredBatchInferer - INFO - Role 'BatchInferenceRole' exists.\n",
      "2025-02-18 14:11:08,727 - llmbo.llmbo.StructuredBatchInferer - INFO - Initialized BatchInferer\n",
      "2025-02-18 14:11:08,728 - llmbo.llmbo.StructuredBatchInferer - INFO - Job arn:aws:bedrock:us-east-1:992382722318:model-invocation-job/133yd2h4amyo is already Completed\n",
      "2025-02-18 14:11:08,728 - llmbo.llmbo.StructuredBatchInferer - INFO - Job:arn:aws:bedrock:us-east-1:992382722318:model-invocation-job/133yd2h4amyo Complete. Downloading results from cddo-af-bedrock-batch-inference-us-east-1\n",
      "2025-02-18 14:11:09,426 - botocore.httpchecksum - INFO - Skipping checksum validation. Response did not contain one of the following algorithms: ['crc32', 'sha1', 'sha256'].\n",
      "2025-02-18 14:11:09,541 - botocore.httpchecksum - INFO - Skipping checksum validation. Response did not contain one of the following algorithms: ['crc32', 'sha1', 'sha256'].\n",
      "2025-02-18 14:11:09,544 - botocore.httpchecksum - INFO - Skipping checksum validation. Response did not contain one of the following algorithms: ['crc32', 'sha1', 'sha256'].\n",
      "2025-02-18 14:11:09,582 - botocore.httpchecksum - INFO - Skipping checksum validation. Response did not contain one of the following algorithms: ['crc32', 'sha1', 'sha256'].\n",
      "2025-02-18 14:11:09,597 - botocore.httpchecksum - INFO - Skipping checksum validation. Response did not contain one of the following algorithms: ['crc32', 'sha1', 'sha256'].\n",
      "2025-02-18 14:11:09,605 - botocore.httpchecksum - INFO - Skipping checksum validation. Response did not contain one of the following algorithms: ['crc32', 'sha1', 'sha256'].\n",
      "2025-02-18 14:11:09,630 - botocore.httpchecksum - INFO - Skipping checksum validation. Response did not contain one of the following algorithms: ['crc32', 'sha1', 'sha256'].\n",
      "2025-02-18 14:11:09,638 - botocore.httpchecksum - INFO - Skipping checksum validation. Response did not contain one of the following algorithms: ['crc32', 'sha1', 'sha256'].\n",
      "2025-02-18 14:11:09,660 - botocore.httpchecksum - INFO - Skipping checksum validation. Response did not contain one of the following algorithms: ['crc32', 'sha1', 'sha256'].\n",
      "2025-02-18 14:11:09,686 - botocore.httpchecksum - INFO - Skipping checksum validation. Response did not contain one of the following algorithms: ['crc32', 'sha1', 'sha256'].\n",
      "2025-02-18 14:11:10,780 - botocore.httpchecksum - INFO - Skipping checksum validation. Response did not contain one of the following algorithms: ['crc32', 'sha1', 'sha256'].\n",
      "2025-02-18 14:11:14,320 - llmbo.llmbo.StructuredBatchInferer - INFO - Downloaded results file to ministry-of-justice-task-extraction-trial-1_out.jsonl\n",
      "2025-02-18 14:11:14,551 - botocore.httpchecksum - INFO - Skipping checksum validation. Response did not contain one of the following algorithms: ['crc32', 'sha1', 'sha256'].\n",
      "2025-02-18 14:11:14,556 - llmbo.llmbo.StructuredBatchInferer - INFO - Downloaded manifest file to ministry-of-justice-task-extraction-trial-1_manifest.jsonl\n",
      "2025-02-18 14:11:15,058 - llmbo.llmbo.StructuredBatchInferer - INFO - Attempting to Recover BatchInferer from arn:aws:bedrock:us-east-1:992382722318:model-invocation-job/hy9y2ah1kzx1\n",
      "2025-02-18 14:11:15,533 - llmbo.llmbo.StructuredBatchInferer - INFO - Initialized StructuredBatchInferer with TaskOutput schema\n",
      "2025-02-18 14:11:15,534 - llmbo.llmbo.StructuredBatchInferer - INFO - Intialising BatchInferer\n",
      "2025-02-18 14:11:16,440 - llmbo.llmbo.StructuredBatchInferer - INFO - Role 'BatchInferenceRole' exists.\n",
      "2025-02-18 14:11:16,448 - llmbo.llmbo.StructuredBatchInferer - INFO - Initialized BatchInferer\n",
      "2025-02-18 14:11:16,449 - llmbo.llmbo.StructuredBatchInferer - INFO - Job arn:aws:bedrock:us-east-1:992382722318:model-invocation-job/hy9y2ah1kzx1 is already Completed\n",
      "2025-02-18 14:11:16,449 - llmbo.llmbo.StructuredBatchInferer - INFO - Job:arn:aws:bedrock:us-east-1:992382722318:model-invocation-job/hy9y2ah1kzx1 Complete. Downloading results from cddo-af-bedrock-batch-inference-us-east-1\n",
      "2025-02-18 14:11:17,131 - botocore.httpchecksum - INFO - Skipping checksum validation. Response did not contain one of the following algorithms: ['crc32', 'sha1', 'sha256'].\n",
      "2025-02-18 14:11:17,283 - botocore.httpchecksum - INFO - Skipping checksum validation. Response did not contain one of the following algorithms: ['crc32', 'sha1', 'sha256'].\n",
      "2025-02-18 14:11:17,328 - botocore.httpchecksum - INFO - Skipping checksum validation. Response did not contain one of the following algorithms: ['crc32', 'sha1', 'sha256'].\n",
      "2025-02-18 14:11:17,345 - botocore.httpchecksum - INFO - Skipping checksum validation. Response did not contain one of the following algorithms: ['crc32', 'sha1', 'sha256'].\n",
      "2025-02-18 14:11:18,625 - llmbo.llmbo.StructuredBatchInferer - INFO - Downloaded results file to scottish-government-task-extraction-trial-1_out.jsonl\n",
      "2025-02-18 14:11:18,887 - botocore.httpchecksum - INFO - Skipping checksum validation. Response did not contain one of the following algorithms: ['crc32', 'sha1', 'sha256'].\n",
      "2025-02-18 14:11:18,892 - llmbo.llmbo.StructuredBatchInferer - INFO - Downloaded manifest file to scottish-government-task-extraction-trial-1_manifest.jsonl\n"
     ]
    }
   ],
   "source": [
    "from llmbo import StructuredBatchInferer\n",
    "from extraction import TaskOutput\n",
    "\n",
    "\n",
    "session = boto3.Session()\n",
    "instances = {}\n",
    "for department, job_arn in job_arns.items():\n",
    "    sbi = StructuredBatchInferer.recover_structured_job(\n",
    "        job_arn=job_arn,\n",
    "        region=\"us-east-1\",\n",
    "        output_model=TaskOutput,\n",
    "        session=session,\n",
    "    )\n",
    "\n",
    "    sbi.download_results()\n",
    "    sbi.load_results()\n",
    "\n",
    "    instances.update({department: sbi})\n"
   ]
  },
  {
   "cell_type": "code",
   "execution_count": null,
   "metadata": {},
   "outputs": [
    {
     "name": "stdout",
     "output_type": "stream",
     "text": [
      "cabinet-office has 7744 returns 7744, fails 0\n",
      "department-for-education has 7055 returns 7055, fails 0\n",
      "department-for-work-and-pensions has 6136 returns 6136, fails 0\n",
      "foreign-commonwealth-development-office has 12828 returns 12826, fails 2\n",
      "hm-prison-probation-service has 22930 returns 22930, fails 0\n",
      "hm-revenue-and-customs has 23233 returns 23232, fails 1\n",
      "home-office has 17887 returns 17887, fails 0\n",
      "ministry-of-defence has 41259 returns 41258, fails 1\n",
      "ministry-of-justice has 7875 returns 7875, fails 0\n",
      "scottish-government has 6649 returns 6649, fails 0\n"
     ]
    }
   ],
   "source": [
    "for department, sbi in instances.items():\n",
    "    print(\n",
    "        f\"{job_arn} has {len(sbi.instances)} returns {len([i for i in sbi.instances if i])}, fails {len([i for i in sbi.instances if not i])}\"\n",
    "    )"
   ]
  },
  {
   "cell_type": "code",
   "execution_count": 5,
   "metadata": {},
   "outputs": [],
   "source": [
    "from extraction import convert_tasks_output_to_dataframe\n",
    "\n",
    "dataframes = {\n",
    "    department: convert_tasks_output_to_dataframe(sbi.instances)\n",
    "    for department, sbi in instances.items()\n",
    "}"
   ]
  },
  {
   "cell_type": "code",
   "execution_count": 12,
   "metadata": {},
   "outputs": [],
   "source": [
    "for dep, df in dataframes.items():\n",
    "    df.to_csv(f\"./for_drive/{dep}-list-of-tasks.csv\")\n",
    "\n",
    "    stats = df.groupby(\"vacancy_id\")[\"exposure_score\"].agg(\n",
    "        [\"count\", \"mean\", \"median\", \"std\"]\n",
    "    )\n",
    "    stats.to_csv(f\"./for_drive/{dep}-task-summary.csv\")"
   ]
  },
  {
   "cell_type": "code",
   "execution_count": 14,
   "metadata": {},
   "outputs": [],
   "source": [
    "for department in large_deparments:\n",
    "    kebab = skewer_department(department)\n",
    "    department_jobs = jobs_data.loc[jobs_data['department'] == department].copy()\n",
    "    department_jobs.to_csv(f\"./for_drive/{kebab}-jobs.csv\")\n",
    "    stats = dataframes[kebab].groupby(\"vacancy_id\")[\"exposure_score\"].agg(\n",
    "        [\"count\", \"mean\", \"median\", \"std\"]\n",
    "    )\n",
    "    department_jobs.merge(stats, on=\"vacancy_id\", how=\"left\").to_csv(f\"./for_drive/{kebab}-jobs-with-stats.csv\")"
   ]
  },
  {
   "cell_type": "code",
   "execution_count": 19,
   "metadata": {},
   "outputs": [
    {
     "data": {
      "text/plain": [
       "1175044"
      ]
     },
     "execution_count": 19,
     "metadata": {},
     "output_type": "execute_result"
    }
   ],
   "source": [
    "sum([len(df) for dep, df in dataframes.items()])\n"
   ]
  },
  {
   "cell_type": "code",
   "execution_count": null,
   "metadata": {},
   "outputs": [
    {
     "data": {
      "text/plain": [
       "62227"
      ]
     },
     "execution_count": 18,
     "metadata": {},
     "output_type": "execute_result"
    }
   ],
   "source": []
  },
  {
   "cell_type": "code",
   "execution_count": 20,
   "metadata": {},
   "outputs": [
    {
     "data": {
      "text/plain": [
       "189546207"
      ]
     },
     "execution_count": 20,
     "metadata": {},
     "output_type": "execute_result"
    }
   ],
   "source": [
    "sum([sbi.manifest.inputTokenCount for department, sbi in instances.items()])\n"
   ]
  },
  {
   "cell_type": "code",
   "execution_count": 22,
   "metadata": {},
   "outputs": [
    {
     "data": {
      "text/plain": [
       "65645606"
      ]
     },
     "execution_count": 22,
     "metadata": {},
     "output_type": "execute_result"
    }
   ],
   "source": [
    "sum([sbi.manifest.outputTokenCount for department, sbi in instances.items()])"
   ]
  },
  {
   "cell_type": "code",
   "execution_count": null,
   "metadata": {},
   "outputs": [],
   "source": []
  }
 ],
 "metadata": {
  "kernelspec": {
   "display_name": ".venv",
   "language": "python",
   "name": "python3"
  },
  "language_info": {
   "codemirror_mode": {
    "name": "ipython",
    "version": 3
   },
   "file_extension": ".py",
   "mimetype": "text/x-python",
   "name": "python",
   "nbconvert_exporter": "python",
   "pygments_lexer": "ipython3",
   "version": "3.10.11"
  }
 },
 "nbformat": 4,
 "nbformat_minor": 2
}
