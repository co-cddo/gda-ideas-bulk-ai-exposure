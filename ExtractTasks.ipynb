{
 "cells": [
  {
   "cell_type": "markdown",
   "metadata": {},
   "source": [
    "# Extract Tasks\n",
    "\n",
    "This notebook uses bedrock batch processing to extract a list of tasks associated with\n",
    "job roles as advertised on civil service jobs. \n"
   ]
  },
  {
   "cell_type": "code",
   "execution_count": 1,
   "metadata": {},
   "outputs": [
    {
     "name": "stdout",
     "output_type": "stream",
     "text": [
      "Large Departments\n",
      "Ministry of Defence\n",
      "HM Revenue and Customs\n",
      "HM Prison & Probation Service\n",
      "Home Office\n",
      "Foreign, Commonwealth & Development Office\n",
      "Ministry of Justice\n",
      "Cabinet Office\n",
      "Department for Education\n",
      "Scottish Government\n",
      "Department for Work and Pensions\n"
     ]
    }
   ],
   "source": [
    "import pandas as pd\n",
    "\n",
    "# Load the data, dropping those roles with missing departments\n",
    "jobs_data = pd.read_parquet(\"./data/jobs.pq\")\n",
    "jobs_data[\"department\"] = jobs_data[\"department\"].replace(\"nan\", pd.NA)\n",
    "jobs_data = jobs_data.dropna(subset=[\"department\"])\n",
    "print(\"Large Departments\")\n",
    "large_deparments = jobs_data.value_counts(\"department\").head(10).index.to_list()\n",
    "print(\"\\n\".join(large_deparments))\n"
   ]
  },
  {
   "cell_type": "markdown",
   "metadata": {},
   "source": [
    "jobs.pq comprises a recent extract of the jobs posted on civil service jobs. Each job \n",
    "description contains tasks which can be extracted using a LLM. Each task can also be graded \n",
    "according to its potential to be automated with technologies like genAI. Focussing on the \n",
    "larger departments, shown above, we can extract a comprehensive list of tasks. "
   ]
  },
  {
   "cell_type": "code",
   "execution_count": 2,
   "metadata": {},
   "outputs": [],
   "source": [
    "from typing import Dict\n",
    "from extraction import create_job, skewer_department\n",
    "import boto3\n",
    "from dotenv import load_dotenv\n",
    "\n",
    "load_dotenv()\n",
    "boto3.setup_default_session()\n",
    "session = boto3.Session()\n"
   ]
  },
  {
   "cell_type": "code",
   "execution_count": null,
   "metadata": {},
   "outputs": [],
   "source": [
    "# job_arns: Dict[str,str] = {}\n",
    "# for department in large_deparments:\n",
    "#     kebab = skewer_department(department)\n",
    "#     department_jobs = jobs_data.loc[jobs_data['department'] == department].copy()\n",
    "#     job_arns.update({kebab: create_job(department_jobs, kebab, \"trial-1\", session) })\n",
    "\n",
    "\n"
   ]
  },
  {
   "cell_type": "code",
   "execution_count": 3,
   "metadata": {},
   "outputs": [],
   "source": [
    "# from pprint import pprint\n",
    "# pprint(job_arns)\n",
    "\n",
    "job_arns = {\n",
    "    \"cabinet-office\": \"arn:aws:bedrock:us-east-1:992382722318:model-invocation-job/jmeegk5rpit7\",\n",
    "    \"department-for-education\": \"arn:aws:bedrock:us-east-1:992382722318:model-invocation-job/7jgo6har1v2k\",\n",
    "    \"department-for-work-and-pensions\": \"arn:aws:bedrock:us-east-1:992382722318:model-invocation-job/1d5s3tp7cuje\",\n",
    "    \"foreign-commonwealth-development-office\": \"arn:aws:bedrock:us-east-1:992382722318:model-invocation-job/e4s08jqd6jtt\",\n",
    "    \"hm-prison-probation-service\": \"arn:aws:bedrock:us-east-1:992382722318:model-invocation-job/0et0ecsnl2mr\",\n",
    "    \"hm-revenue-and-customs\": \"arn:aws:bedrock:us-east-1:992382722318:model-invocation-job/zmrn780b7af9\",\n",
    "    \"home-office\": \"arn:aws:bedrock:us-east-1:992382722318:model-invocation-job/qupta2en20yg\",\n",
    "    \"ministry-of-defence\": \"arn:aws:bedrock:us-east-1:992382722318:model-invocation-job/vxub08igmtcv\",\n",
    "    \"ministry-of-justice\": \"arn:aws:bedrock:us-east-1:992382722318:model-invocation-job/133yd2h4amyo\",\n",
    "    \"scottish-government\": \"arn:aws:bedrock:us-east-1:992382722318:model-invocation-job/hy9y2ah1kzx1\",\n",
    "}"
   ]
  },
  {
   "cell_type": "code",
   "execution_count": null,
   "metadata": {},
   "outputs": [],
   "source": [
    "from llmbo import StructuredBatchInferer\n",
    "from extraction import TaskOutput\n",
    "\n",
    "\n",
    "session = boto3.Session()\n",
    "instances = {}\n",
    "for department, job_arn in job_arns.items():\n",
    "    sbi = StructuredBatchInferer.recover_structured_job(\n",
    "        job_arn=job_arn,\n",
    "        region=\"us-east-1\",\n",
    "        output_model=TaskOutput,\n",
    "        session=session,\n",
    "    )\n",
    "\n",
    "    sbi.download_results()\n",
    "    sbi.load_results()\n",
    "\n",
    "    instances.update({department: sbi})\n"
   ]
  },
  {
   "cell_type": "code",
   "execution_count": null,
   "metadata": {},
   "outputs": [
    {
     "name": "stdout",
     "output_type": "stream",
     "text": [
      "cabinet-office has 7744 returns 7744, fails 0\n",
      "department-for-education has 7055 returns 7055, fails 0\n",
      "department-for-work-and-pensions has 6136 returns 6136, fails 0\n",
      "foreign-commonwealth-development-office has 12828 returns 12826, fails 2\n",
      "hm-prison-probation-service has 22930 returns 22930, fails 0\n",
      "hm-revenue-and-customs has 23233 returns 23232, fails 1\n",
      "home-office has 17887 returns 17887, fails 0\n",
      "ministry-of-defence has 41259 returns 41258, fails 1\n",
      "ministry-of-justice has 7875 returns 7875, fails 0\n",
      "scottish-government has 6649 returns 6649, fails 0\n"
     ]
    }
   ],
   "source": [
    "for department, sbi in instances.items():\n",
    "    print(\n",
    "        f\"{job_arn} has {len(sbi.instances)} returns {len([i for i in sbi.instances if i])}, fails {len([i for i in sbi.instances if not i])}\"\n",
    "    )"
   ]
  },
  {
   "cell_type": "code",
   "execution_count": 5,
   "metadata": {},
   "outputs": [],
   "source": [
    "from extraction import convert_tasks_output_to_dataframe\n",
    "\n",
    "dataframes = {\n",
    "    department: convert_tasks_output_to_dataframe(sbi.instances)\n",
    "    for department, sbi in instances.items()\n",
    "}"
   ]
  },
  {
   "cell_type": "code",
   "execution_count": 12,
   "metadata": {},
   "outputs": [],
   "source": [
    "for dep, df in dataframes.items():\n",
    "    df.to_csv(f\"./for_drive/{dep}-list-of-tasks.csv\")\n",
    "\n",
    "    stats = df.groupby(\"vacancy_id\")[\"exposure_score\"].agg(\n",
    "        [\"count\", \"mean\", \"median\", \"std\"]\n",
    "    )\n",
    "    stats.to_csv(f\"./for_drive/{dep}-task-summary.csv\")"
   ]
  },
  {
   "cell_type": "code",
   "execution_count": 14,
   "metadata": {},
   "outputs": [],
   "source": [
    "for department in large_deparments:\n",
    "    kebab = skewer_department(department)\n",
    "    department_jobs = jobs_data.loc[jobs_data['department'] == department].copy()\n",
    "    department_jobs.to_csv(f\"./for_drive/{kebab}-jobs.csv\")\n",
    "    stats = dataframes[kebab].groupby(\"vacancy_id\")[\"exposure_score\"].agg(\n",
    "        [\"count\", \"mean\", \"median\", \"std\"]\n",
    "    )\n",
    "    department_jobs.merge(stats, on=\"vacancy_id\", how=\"left\").to_csv(f\"./for_drive/{kebab}-jobs-with-stats.csv\")"
   ]
  },
  {
   "cell_type": "markdown",
   "metadata": {},
   "source": [
    "# Running for One department\n",
    "\n",
    "Use this section if you want to run for a single section "
   ]
  },
  {
   "cell_type": "code",
   "execution_count": null,
   "metadata": {},
   "outputs": [],
   "source": [
    "department = \"Department for Business and Trade\"\n",
    "session = boto3.Session()\n",
    "dept_jobs = jobs_data.loc[jobs_data['department'] == department].copy()\n",
    "dept_arn = create_job(dept_jobs, skewer_department(department), \"trial-1\", session)\n",
    "sbi = StructuredBatchInferer.recover_structured_job(\n",
    "        job_arn=\"arn:aws:bedrock:us-east-1:992382722318:model-invocation-job/xq96wu29jj2a\",\n",
    "        region=\"us-east-1\",\n",
    "        output_model=TaskOutput,\n",
    "        session=session,\n",
    "    )\n",
    "\n",
    "\n",
    "sbi.poll_progress()\n",
    "sbi.download_results()\n",
    "sbi.load_results()\n",
    "\n",
    "dept_jobs.to_csv(f\"./for_drive/{skewer_department(department)}-jobs.csv\")\n",
    "\n",
    "df = convert_tasks_output_to_dataframe(sbi.instances)\n",
    "df.to_csv(f\"./for_drive/{skewer_department(department)}-list-of-tasks.csv\")\n",
    "\n",
    "stats = df.groupby(\"vacancy_id\")[\"exposure_score\"].agg(\n",
    "        [\"count\", \"mean\", \"median\", \"std\"]\n",
    "    )\n",
    "stats.to_csv(f\"./for_drive/{skewer_department(department)}-task-summary.csv\")\n",
    "\n",
    "dept_jobs.merge(stats, on=\"vacancy_id\", how=\"left\").to_csv(f\"./for_drive/{skewer_department(department)}-jobs-with-stats.csv\")"
   ]
  }
 ],
 "metadata": {
  "kernelspec": {
   "display_name": ".venv",
   "language": "python",
   "name": "python3"
  },
  "language_info": {
   "codemirror_mode": {
    "name": "ipython",
    "version": 3
   },
   "file_extension": ".py",
   "mimetype": "text/x-python",
   "name": "python",
   "nbconvert_exporter": "python",
   "pygments_lexer": "ipython3",
   "version": "3.10.11"
  }
 },
 "nbformat": 4,
 "nbformat_minor": 2
}
